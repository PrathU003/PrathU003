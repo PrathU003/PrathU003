{
  "nbformat": 4,
  "nbformat_minor": 0,
  "metadata": {
    "colab": {
      "name": "NumPy.ipynb",
      "provenance": [],
      "collapsed_sections": []
    },
    "kernelspec": {
      "name": "python3",
      "display_name": "Python 3"
    },
    "language_info": {
      "name": "python"
    }
  },
  "cells": [
    {
      "cell_type": "markdown",
      "metadata": {
        "id": "VUYqHMpoNKXg"
      },
      "source": [
        "       numpy means numeric python is use for solving numeric problems in python\n",
        "steps:\n",
        "       \n",
        "       \n",
        "\n",
        "1.   1st import the numpy library\n",
        "2.  2nd creatina a list in python\n",
        "3.  3rd converting that list in array using numpy.array or np.array\n",
        "4.  4th perform operations on that array\n",
        "\n",
        "\n",
        "\n",
        "\n",
        "\n"
      ]
    },
    {
      "cell_type": "code",
      "metadata": {
        "id": "cu7g5jnnMdRm"
      },
      "source": [
        "import numpy as np   #importing the numpy"
      ],
      "execution_count": null,
      "outputs": []
    },
    {
      "cell_type": "code",
      "metadata": {
        "colab": {
          "base_uri": "https://localhost:8080/"
        },
        "id": "ryurA3gIMtr3",
        "outputId": "c5dd4525-9ef9-457a-e766-ca2202a0e917"
      },
      "source": [
        "l=['xyz','a',101,12.05]   #creating a list\n",
        "l=np.array(l)         #converting that list into a array\n",
        "l"
      ],
      "execution_count": null,
      "outputs": [
        {
          "output_type": "execute_result",
          "data": {
            "text/plain": [
              "array(['xyz', 'a', '101', '12.05'], dtype='<U5')"
            ]
          },
          "metadata": {
            "tags": []
          },
          "execution_count": 2
        }
      ]
    },
    {
      "cell_type": "code",
      "metadata": {
        "colab": {
          "base_uri": "https://localhost:8080/"
        },
        "id": "urFdPXOhN9dD",
        "outputId": "ae302252-0cc5-47e0-9b64-07ff519f3ffe"
      },
      "source": [
        "type(l)       #checking a type of array"
      ],
      "execution_count": null,
      "outputs": [
        {
          "output_type": "execute_result",
          "data": {
            "text/plain": [
              "numpy.ndarray"
            ]
          },
          "metadata": {
            "tags": []
          },
          "execution_count": 3
        }
      ]
    },
    {
      "cell_type": "code",
      "metadata": {
        "colab": {
          "base_uri": "https://localhost:8080/"
        },
        "id": "1KlqReqmSTsk",
        "outputId": "9d78fa43-c89a-4688-feff-86f62d79db63"
      },
      "source": [
        "np.array([(1,2),(4,5)])  #creating a 2dimensional array"
      ],
      "execution_count": null,
      "outputs": [
        {
          "output_type": "execute_result",
          "data": {
            "text/plain": [
              "array([[1, 2],\n",
              "       [4, 5]])"
            ]
          },
          "metadata": {
            "tags": []
          },
          "execution_count": 4
        }
      ]
    },
    {
      "cell_type": "markdown",
      "metadata": {
        "id": "T_ptwWQKOaDu"
      },
      "source": [
        "Parameters of np array\n",
        "array(object , dtype=None , copy=True , order='k' , subok=False)\n",
        "\n",
        "\n",
        "1. object  : objects or elements os array\n",
        "2. dtype   : data-type of elements of array bydefault data-type is None\n",
        "3. ndmin   : number of dimensions of array (min:2)\n",
        "\n"
      ]
    },
    {
      "cell_type": "markdown",
      "metadata": {
        "id": "3IaPuSSqPigM"
      },
      "source": [
        "**dtype**"
      ]
    },
    {
      "cell_type": "markdown",
      "metadata": {
        "id": "6_Au6UzPPxf6"
      },
      "source": [
        "*It is also show the data-type of given aaray. also use to convert given elements to define data-type, By default dtype is a None*"
      ]
    },
    {
      "cell_type": "code",
      "metadata": {
        "colab": {
          "base_uri": "https://localhost:8080/"
        },
        "id": "7ENbLOFbOBfZ",
        "outputId": "c1f386c6-d9cc-46cb-a2f5-61511a39bdad"
      },
      "source": [
        "np.array([1,2,3],dtype=complex)     #creating a array of complex numbers"
      ],
      "execution_count": null,
      "outputs": [
        {
          "output_type": "execute_result",
          "data": {
            "text/plain": [
              "array([1.+0.j, 2.+0.j, 3.+0.j])"
            ]
          },
          "metadata": {
            "tags": []
          },
          "execution_count": 5
        }
      ]
    },
    {
      "cell_type": "markdown",
      "metadata": {
        "id": "ozXBHQqyREJo"
      },
      "source": [
        "*dtype consisting of more than one element*"
      ]
    },
    {
      "cell_type": "code",
      "metadata": {
        "colab": {
          "base_uri": "https://localhost:8080/"
        },
        "id": "khfBanwbQXc0",
        "outputId": "799deb8c-ee8c-4480-b998-794f0364e241"
      },
      "source": [
        "x=np.array([(1,2),(3,4)],dtype=[('a',float),('b',complex)])     #it can be convert 'a' means [0]index element=1,3 to float and 'a' means [1]index element=2,4 to complex\n",
        "x"
      ],
      "execution_count": null,
      "outputs": [
        {
          "output_type": "execute_result",
          "data": {
            "text/plain": [
              "array([(1., 2.+0.j), (3., 4.+0.j)], dtype=[('a', '<f8'), ('b', '<c16')])"
            ]
          },
          "metadata": {
            "tags": []
          },
          "execution_count": 6
        }
      ]
    },
    {
      "cell_type": "markdown",
      "metadata": {
        "id": "X_sg9nZgTkcz"
      },
      "source": [
        "Creating a matrix using numpy\n"
      ]
    },
    {
      "cell_type": "code",
      "metadata": {
        "colab": {
          "base_uri": "https://localhost:8080/"
        },
        "id": "pNQ4YLdRTtkr",
        "outputId": "96ca8f91-1010-40b8-b4bb-7b602710e667"
      },
      "source": [
        "a=np.mat([(1,2),(4,5)]) \n",
        "a"
      ],
      "execution_count": null,
      "outputs": [
        {
          "output_type": "execute_result",
          "data": {
            "text/plain": [
              "matrix([[1, 2],\n",
              "        [4, 5]])"
            ]
          },
          "metadata": {
            "tags": []
          },
          "execution_count": 7
        }
      ]
    },
    {
      "cell_type": "code",
      "metadata": {
        "colab": {
          "base_uri": "https://localhost:8080/"
        },
        "id": "boZ0WXHgT1Mi",
        "outputId": "6cc6ed7f-8837-4669-e6f5-06107ad51dc1"
      },
      "source": [
        "type(a)"
      ],
      "execution_count": null,
      "outputs": [
        {
          "output_type": "execute_result",
          "data": {
            "text/plain": [
              "numpy.matrix"
            ]
          },
          "metadata": {
            "tags": []
          },
          "execution_count": 8
        }
      ]
    },
    {
      "cell_type": "code",
      "metadata": {
        "colab": {
          "base_uri": "https://localhost:8080/"
        },
        "id": "r3uqCkAiT_Yi",
        "outputId": "9a7d246d-b1f6-43b9-ea51-0d6ba636bfd1"
      },
      "source": [
        "np.mat('1,2;3,4')   #creating a matrix using string"
      ],
      "execution_count": null,
      "outputs": [
        {
          "output_type": "execute_result",
          "data": {
            "text/plain": [
              "matrix([[1, 2],\n",
              "        [3, 4]])"
            ]
          },
          "metadata": {
            "tags": []
          },
          "execution_count": 9
        }
      ]
    },
    {
      "cell_type": "markdown",
      "metadata": {
        "id": "i20VW2gTUbmA"
      },
      "source": [
        "**creating an array**"
      ]
    },
    {
      "cell_type": "markdown",
      "metadata": {
        "id": "8eTi9-QUcTF2"
      },
      "source": [
        "There is 3 ways to create an array\n",
        "\n",
        "\n",
        "1. np.array()\n",
        "2. np.asarray()\n",
        "3. np.asanyarray()\n",
        "\n"
      ]
    },
    {
      "cell_type": "code",
      "metadata": {
        "id": "UACdZj2CUIIq",
        "colab": {
          "base_uri": "https://localhost:8080/"
        },
        "outputId": "22bafa92-a9fe-46ad-d5b4-720966d6c65c"
      },
      "source": [
        "np.array([1,2,3,4,5])    #creatin an array using as array()"
      ],
      "execution_count": null,
      "outputs": [
        {
          "output_type": "execute_result",
          "data": {
            "text/plain": [
              "array([1, 2, 3, 4, 5])"
            ]
          },
          "metadata": {
            "tags": []
          },
          "execution_count": 10
        }
      ]
    },
    {
      "cell_type": "markdown",
      "metadata": {
        "id": "TfogivUgdIXr"
      },
      "source": [
        "**np.asarray()**"
      ]
    },
    {
      "cell_type": "code",
      "metadata": {
        "colab": {
          "base_uri": "https://localhost:8080/"
        },
        "id": "uSIXzAmXc3xd",
        "outputId": "4bffa8d0-66b3-49bb-f25c-4c0660c0027f"
      },
      "source": [
        "a=np.asarray([1,2,3])  #creatin an array using as asarray()\n",
        "a"
      ],
      "execution_count": null,
      "outputs": [
        {
          "output_type": "execute_result",
          "data": {
            "text/plain": [
              "array([1, 2, 3])"
            ]
          },
          "metadata": {
            "tags": []
          },
          "execution_count": 11
        }
      ]
    },
    {
      "cell_type": "code",
      "metadata": {
        "colab": {
          "base_uri": "https://localhost:8080/"
        },
        "id": "mn0tstaneJhu",
        "outputId": "49280b7b-bc78-411a-dbb2-c2c779e21544"
      },
      "source": [
        "np.mat(a)          #converting array into matrix"
      ],
      "execution_count": null,
      "outputs": [
        {
          "output_type": "execute_result",
          "data": {
            "text/plain": [
              "matrix([[1, 2, 3]])"
            ]
          },
          "metadata": {
            "tags": []
          },
          "execution_count": 12
        }
      ]
    },
    {
      "cell_type": "code",
      "metadata": {
        "colab": {
          "base_uri": "https://localhost:8080/"
        },
        "id": "z-yXgL41dXXk",
        "outputId": "ad8e715d-b2ef-4da8-ff6d-66fd62f9f5c2"
      },
      "source": [
        "np.asarray([1,2,3],dtype=float)        #converting matrix into array"
      ],
      "execution_count": null,
      "outputs": [
        {
          "output_type": "execute_result",
          "data": {
            "text/plain": [
              "array([1., 2., 3.])"
            ]
          },
          "metadata": {
            "tags": []
          },
          "execution_count": 13
        }
      ]
    },
    {
      "cell_type": "markdown",
      "metadata": {
        "id": "Fdd-9KXId13Z"
      },
      "source": [
        "**asanyarray()**"
      ]
    },
    {
      "cell_type": "code",
      "metadata": {
        "colab": {
          "base_uri": "https://localhost:8080/"
        },
        "id": "NYO85ZVmdulD",
        "outputId": "19a137d8-3d1a-4b6c-e4a5-5f7b0fb03269"
      },
      "source": [
        "\n",
        "a=np.asanyarray([1,2,3])    #creatin an array using as asanyarray()\n",
        "a"
      ],
      "execution_count": null,
      "outputs": [
        {
          "output_type": "execute_result",
          "data": {
            "text/plain": [
              "array([1, 2, 3])"
            ]
          },
          "metadata": {
            "tags": []
          },
          "execution_count": 14
        }
      ]
    },
    {
      "cell_type": "code",
      "metadata": {
        "colab": {
          "base_uri": "https://localhost:8080/"
        },
        "id": "ShOl0ovAd_RB",
        "outputId": "a5ca36e1-53cc-439b-bdfe-40660141b078"
      },
      "source": [
        "a=np.mat(a)         #converting array into matrix\n",
        "a"
      ],
      "execution_count": null,
      "outputs": [
        {
          "output_type": "execute_result",
          "data": {
            "text/plain": [
              "matrix([[1, 2, 3]])"
            ]
          },
          "metadata": {
            "tags": []
          },
          "execution_count": 15
        }
      ]
    },
    {
      "cell_type": "code",
      "metadata": {
        "colab": {
          "base_uri": "https://localhost:8080/"
        },
        "id": "H3QH6RQCet7f",
        "outputId": "957f1abf-06c1-4391-cb6f-bc33a320316f"
      },
      "source": [
        "a=np.asanyarray(a)       #converting matrix into array\n",
        "a"
      ],
      "execution_count": null,
      "outputs": [
        {
          "output_type": "execute_result",
          "data": {
            "text/plain": [
              "matrix([[1, 2, 3]])"
            ]
          },
          "metadata": {
            "tags": []
          },
          "execution_count": 16
        }
      ]
    },
    {
      "cell_type": "markdown",
      "metadata": {
        "id": "I5FJ1vuLfmx-"
      },
      "source": [
        "*note:array() & asarray() can be covert pre define matrix into array but asanyarray() can not convert pre define matrix into array because matrux is a subser of array is show in above example *"
      ]
    },
    {
      "cell_type": "markdown",
      "metadata": {
        "id": "Izs8NFtHgb9E"
      },
      "source": [
        "**issubclass**"
      ]
    },
    {
      "cell_type": "code",
      "metadata": {
        "colab": {
          "base_uri": "https://localhost:8080/"
        },
        "id": "5OCJdtd1efEh",
        "outputId": "b5c74368-630d-4c8d-91b1-1c330afd45f4"
      },
      "source": [
        "issubclass(np.ndarray,np.matrix)  #False beacuse array is not sub_class of matrix"
      ],
      "execution_count": null,
      "outputs": [
        {
          "output_type": "execute_result",
          "data": {
            "text/plain": [
              "False"
            ]
          },
          "metadata": {
            "tags": []
          },
          "execution_count": 17
        }
      ]
    },
    {
      "cell_type": "code",
      "metadata": {
        "colab": {
          "base_uri": "https://localhost:8080/"
        },
        "id": "444eUu__gm2c",
        "outputId": "540584bc-fb96-41ba-a63b-3a570009a828"
      },
      "source": [
        "issubclass(np.matrix,np.ndarray)      #True beacuse matrix is a sub_class of array"
      ],
      "execution_count": null,
      "outputs": [
        {
          "output_type": "execute_result",
          "data": {
            "text/plain": [
              "True"
            ]
          },
          "metadata": {
            "tags": []
          },
          "execution_count": 18
        }
      ]
    },
    {
      "cell_type": "markdown",
      "metadata": {
        "id": "HP8U7DPHhJYL"
      },
      "source": [
        "**copy()**"
      ]
    },
    {
      "cell_type": "markdown",
      "metadata": {
        "id": "5mwOahiJhcUm"
      },
      "source": [
        "**copy() is use for create a deep copy of main array into another array**"
      ]
    },
    {
      "cell_type": "code",
      "metadata": {
        "id": "tfMCrPMiguGS",
        "colab": {
          "base_uri": "https://localhost:8080/"
        },
        "outputId": "fa1916a3-e009-4282-fc13-dd292d202e2e"
      },
      "source": [
        "x=np.array([1,2,3])\n",
        "x\n"
      ],
      "execution_count": null,
      "outputs": [
        {
          "output_type": "execute_result",
          "data": {
            "text/plain": [
              "array([1, 2, 3])"
            ]
          },
          "metadata": {
            "tags": []
          },
          "execution_count": 19
        }
      ]
    },
    {
      "cell_type": "code",
      "metadata": {
        "id": "G9Jn8pmwhUGR",
        "colab": {
          "base_uri": "https://localhost:8080/"
        },
        "outputId": "c40fdf3d-420e-4476-89ff-74afeac4074f"
      },
      "source": [
        "z=np.copy(x)\n",
        "z"
      ],
      "execution_count": null,
      "outputs": [
        {
          "output_type": "execute_result",
          "data": {
            "text/plain": [
              "array([1, 2, 3])"
            ]
          },
          "metadata": {
            "tags": []
          },
          "execution_count": 20
        }
      ]
    },
    {
      "cell_type": "code",
      "metadata": {
        "id": "G-_Pw2yShXd4",
        "colab": {
          "base_uri": "https://localhost:8080/"
        },
        "outputId": "69153e37-6b31-4568-b8c8-e779f9e8d7bd"
      },
      "source": [
        "z[0]=50\n",
        "z"
      ],
      "execution_count": null,
      "outputs": [
        {
          "output_type": "execute_result",
          "data": {
            "text/plain": [
              "array([50,  2,  3])"
            ]
          },
          "metadata": {
            "tags": []
          },
          "execution_count": 21
        }
      ]
    },
    {
      "cell_type": "code",
      "metadata": {
        "id": "u3yAvzKmhxOQ",
        "colab": {
          "base_uri": "https://localhost:8080/"
        },
        "outputId": "8c25f5b2-c2c3-4732-b0b9-e72e2f851c51"
      },
      "source": [
        "x"
      ],
      "execution_count": null,
      "outputs": [
        {
          "output_type": "execute_result",
          "data": {
            "text/plain": [
              "array([1, 2, 3])"
            ]
          },
          "metadata": {
            "tags": []
          },
          "execution_count": 22
        }
      ]
    },
    {
      "cell_type": "markdown",
      "metadata": {
        "id": "O4269ylhh5Cf"
      },
      "source": [
        "**In above example shows that the cpoy() pointing to the another location. z & x are pointing two different locations.This is called as deep copy**"
      ]
    },
    {
      "cell_type": "markdown",
      "metadata": {
        "id": "0YTHUb0jiYRn"
      },
      "source": [
        "*fromfunction()*"
      ]
    },
    {
      "cell_type": "markdown",
      "metadata": {
        "id": "qYF6-EDWihTM"
      },
      "source": [
        "**This is use for generating a array based on the any condition or function**"
      ]
    },
    {
      "cell_type": "code",
      "metadata": {
        "id": "o-d4juj2hzZA",
        "colab": {
          "base_uri": "https://localhost:8080/"
        },
        "outputId": "11193780-a576-4c4f-9b83-f3ef22097bfc"
      },
      "source": [
        "np.fromfunction(lambda i,j:i==j,(3,3),dtype=int)"
      ],
      "execution_count": null,
      "outputs": [
        {
          "output_type": "execute_result",
          "data": {
            "text/plain": [
              "array([[ True, False, False],\n",
              "       [False,  True, False],\n",
              "       [False, False,  True]])"
            ]
          },
          "metadata": {
            "tags": []
          },
          "execution_count": 23
        }
      ]
    },
    {
      "cell_type": "code",
      "metadata": {
        "id": "_3v1QhjKi_IG",
        "colab": {
          "base_uri": "https://localhost:8080/"
        },
        "outputId": "5c3045b0-a542-42c8-8657-1596f9094ea8"
      },
      "source": [
        "np.fromfunction(lambda i,j:i*j,(3,3),dtype=int)"
      ],
      "execution_count": null,
      "outputs": [
        {
          "output_type": "execute_result",
          "data": {
            "text/plain": [
              "array([[0, 0, 0],\n",
              "       [0, 1, 2],\n",
              "       [0, 2, 4]])"
            ]
          },
          "metadata": {
            "tags": []
          },
          "execution_count": 24
        }
      ]
    },
    {
      "cell_type": "markdown",
      "metadata": {
        "id": "UL199rEsjZ-d"
      },
      "source": [
        "**fromiter**"
      ]
    },
    {
      "cell_type": "markdown",
      "metadata": {
        "id": "3xCInrKNji7i"
      },
      "source": [
        " if we want a generate an array by using iterator or genrator then we can use this function"
      ]
    },
    {
      "cell_type": "code",
      "metadata": {
        "id": "UOaBLZiajMId"
      },
      "source": [
        "iterable=(x*x for x in range(5))   #This function is create a list of length(5)"
      ],
      "execution_count": null,
      "outputs": []
    },
    {
      "cell_type": "code",
      "metadata": {
        "id": "nXrsfy7ekIAz",
        "colab": {
          "base_uri": "https://localhost:8080/"
        },
        "outputId": "7108a0ca-9cb4-4a97-deb2-3166dec1f3bc"
      },
      "source": [
        "np.fromiter(iterable,float)"
      ],
      "execution_count": null,
      "outputs": [
        {
          "output_type": "execute_result",
          "data": {
            "text/plain": [
              "array([ 0.,  1.,  4.,  9., 16.])"
            ]
          },
          "metadata": {
            "tags": []
          },
          "execution_count": 26
        }
      ]
    },
    {
      "cell_type": "markdown",
      "metadata": {
        "id": "bJVdTo-SkY4b"
      },
      "source": [
        "**fromstring**"
      ]
    },
    {
      "cell_type": "markdown",
      "metadata": {
        "id": "cXgmw1NskfxX"
      },
      "source": [
        "if we want a generate an array by using string then we can use this function\n",
        "This fuction base on 'sep' parameter array will be created or convered"
      ]
    },
    {
      "cell_type": "code",
      "metadata": {
        "id": "IXBo2rHMkVhp",
        "colab": {
          "base_uri": "https://localhost:8080/"
        },
        "outputId": "46c903f0-c46d-4676-e6a5-b9dcac01d14c"
      },
      "source": [
        "a=np.fromstring('123 234 345',sep=' ')\n",
        "a"
      ],
      "execution_count": null,
      "outputs": [
        {
          "output_type": "execute_result",
          "data": {
            "text/plain": [
              "array([123., 234., 345.])"
            ]
          },
          "metadata": {
            "tags": []
          },
          "execution_count": 27
        }
      ]
    },
    {
      "cell_type": "code",
      "metadata": {
        "id": "LFJRenxAkv_i",
        "colab": {
          "base_uri": "https://localhost:8080/"
        },
        "outputId": "7e1193c6-8153-4a33-8f36-3870ac039e6c"
      },
      "source": [
        "np.fromstring('1,2,3,2,3,4,3,4,5',sep=',')"
      ],
      "execution_count": null,
      "outputs": [
        {
          "output_type": "execute_result",
          "data": {
            "text/plain": [
              "array([1., 2., 3., 2., 3., 4., 3., 4., 5.])"
            ]
          },
          "metadata": {
            "tags": []
          },
          "execution_count": 28
        }
      ]
    },
    {
      "cell_type": "markdown",
      "metadata": {
        "id": "PsgGl9GdlQOX"
      },
      "source": [
        "**Create a record array from a list of array**"
      ]
    },
    {
      "cell_type": "code",
      "metadata": {
        "id": "hR5eexAuk7vf"
      },
      "source": [
        "x1=np.array([1,2,3,4])\n",
        "x2=np.array(['aa','bb','cc','dd'])\n",
        "x3=np.array([1.1,2.2,3.3,4.4])\n",
        "xx4=np.array([1.1,2,3,4])"
      ],
      "execution_count": null,
      "outputs": []
    },
    {
      "cell_type": "code",
      "metadata": {
        "id": "PJvRbFCIl4AO",
        "colab": {
          "base_uri": "https://localhost:8080/"
        },
        "outputId": "1fb7d5fc-71b0-4920-d483-a6fdf85c7c8a"
      },
      "source": [
        "np.core.records.fromarrays([x1,x2,x3,x3])"
      ],
      "execution_count": null,
      "outputs": [
        {
          "output_type": "execute_result",
          "data": {
            "text/plain": [
              "rec.array([(1, 'aa', 1.1, 1.1), (2, 'bb', 2.2, 2.2), (3, 'cc', 3.3, 3.3),\n",
              "           (4, 'dd', 4.4, 4.4)],\n",
              "          dtype=[('f0', '<i8'), ('f1', '<U2'), ('f2', '<f8'), ('f3', '<f8')])"
            ]
          },
          "metadata": {
            "tags": []
          },
          "execution_count": 30
        }
      ]
    },
    {
      "cell_type": "markdown",
      "metadata": {
        "id": "y_CR-z_pLMDD"
      },
      "source": [
        "**dtype**"
      ]
    },
    {
      "cell_type": "code",
      "metadata": {
        "id": "wSLC68C3mBTH"
      },
      "source": [
        "a=[[1,2,3],[4,5,6],[7,8,9]]\n",
        "mat=np.array(a)"
      ],
      "execution_count": null,
      "outputs": []
    },
    {
      "cell_type": "code",
      "metadata": {
        "colab": {
          "base_uri": "https://localhost:8080/"
        },
        "id": "bkZW9xcCLb0L",
        "outputId": "c6b28de6-4d57-40bc-bbf1-255677b2d0fa"
      },
      "source": [
        "mat"
      ],
      "execution_count": null,
      "outputs": [
        {
          "output_type": "execute_result",
          "data": {
            "text/plain": [
              "array([[1, 2, 3],\n",
              "       [4, 5, 6],\n",
              "       [7, 8, 9]])"
            ]
          },
          "metadata": {
            "tags": []
          },
          "execution_count": 32
        }
      ]
    },
    {
      "cell_type": "code",
      "metadata": {
        "colab": {
          "base_uri": "https://localhost:8080/"
        },
        "id": "1_NR6NU6LfEr",
        "outputId": "9652c2d2-dcc4-4c4c-cd85-70df98d0c00f"
      },
      "source": [
        "print(\"dimension of this matrix:\",mat.ndim,sep='')"
      ],
      "execution_count": null,
      "outputs": [
        {
          "output_type": "stream",
          "text": [
            "dimension of this matrix:2\n"
          ],
          "name": "stdout"
        }
      ]
    },
    {
      "cell_type": "code",
      "metadata": {
        "colab": {
          "base_uri": "https://localhost:8080/"
        },
        "id": "4SrQg1USL1yS",
        "outputId": "003a97a9-4e0a-426c-a3d9-65265caece94"
      },
      "source": [
        "print(\"size of this matrix:\",mat.size,sep='')"
      ],
      "execution_count": null,
      "outputs": [
        {
          "output_type": "stream",
          "text": [
            "size of this matrix:9\n"
          ],
          "name": "stdout"
        }
      ]
    },
    {
      "cell_type": "code",
      "metadata": {
        "colab": {
          "base_uri": "https://localhost:8080/"
        },
        "id": "4qG9rOG7L_Vh",
        "outputId": "c786448a-992e-4914-88a6-aec17354d039"
      },
      "source": [
        "print(\"shape of this matrix:\",mat.shape,sep='')"
      ],
      "execution_count": null,
      "outputs": [
        {
          "output_type": "stream",
          "text": [
            "shape of this matrix:(3, 3)\n"
          ],
          "name": "stdout"
        }
      ]
    },
    {
      "cell_type": "code",
      "metadata": {
        "colab": {
          "base_uri": "https://localhost:8080/"
        },
        "id": "cGAHnzDzMG4B",
        "outputId": "8cfa9a3a-f645-4c50-ff75-37e712061a6a"
      },
      "source": [
        "print(\"Data type of this matrix:\",mat.dtype,sep=\"\")"
      ],
      "execution_count": null,
      "outputs": [
        {
          "output_type": "stream",
          "text": [
            "Data type of this matrix:int64\n"
          ],
          "name": "stdout"
        }
      ]
    },
    {
      "cell_type": "markdown",
      "metadata": {
        "id": "777oV_-IMWmK"
      },
      "source": [
        "**arange and linspace**"
      ]
    },
    {
      "cell_type": "markdown",
      "metadata": {
        "id": "_HC-V1miNFb_"
      },
      "source": [
        "**arange**\n",
        "the arange is same as the python range but main diffrerence that the python range() can be acceptr only int valu and numpy.arange() van be accept float value also\n",
        "\n",
        "\n"
      ]
    },
    {
      "cell_type": "code",
      "metadata": {
        "colab": {
          "base_uri": "https://localhost:8080/"
        },
        "id": "8r4rjYJkMUBZ",
        "outputId": "02bdfab9-b8da-486f-f2ab-101b21f403f8"
      },
      "source": [
        "np.arange(5,10)"
      ],
      "execution_count": null,
      "outputs": [
        {
          "output_type": "execute_result",
          "data": {
            "text/plain": [
              "array([5, 6, 7, 8, 9])"
            ]
          },
          "metadata": {
            "tags": []
          },
          "execution_count": 37
        }
      ]
    },
    {
      "cell_type": "code",
      "metadata": {
        "colab": {
          "base_uri": "https://localhost:8080/"
        },
        "id": "HzM92GMcMiQ4",
        "outputId": "eb806fa3-7711-4001-8935-1dfc9b11295e"
      },
      "source": [
        "np.arange(5,15,2.5)"
      ],
      "execution_count": null,
      "outputs": [
        {
          "output_type": "execute_result",
          "data": {
            "text/plain": [
              "array([ 5. ,  7.5, 10. , 12.5])"
            ]
          },
          "metadata": {
            "tags": []
          },
          "execution_count": 38
        }
      ]
    },
    {
      "cell_type": "code",
      "metadata": {
        "colab": {
          "base_uri": "https://localhost:8080/"
        },
        "id": "Ii8gr1p4MryY",
        "outputId": "88ec8e29-3380-40dd-b105-1f995c6a534d"
      },
      "source": [
        "np.arange(5,15,2)"
      ],
      "execution_count": null,
      "outputs": [
        {
          "output_type": "execute_result",
          "data": {
            "text/plain": [
              "array([ 5,  7,  9, 11, 13])"
            ]
          },
          "metadata": {
            "tags": []
          },
          "execution_count": 39
        }
      ]
    },
    {
      "cell_type": "code",
      "metadata": {
        "colab": {
          "base_uri": "https://localhost:8080/"
        },
        "id": "uZkeKjTjMyrP",
        "outputId": "137404f7-9593-4c5d-d791-976c5ac815bb"
      },
      "source": [
        "np.arange(5.5,15,2.5)"
      ],
      "execution_count": null,
      "outputs": [
        {
          "output_type": "execute_result",
          "data": {
            "text/plain": [
              "array([ 5.5,  8. , 10.5, 13. ])"
            ]
          },
          "metadata": {
            "tags": []
          },
          "execution_count": 40
        }
      ]
    },
    {
      "cell_type": "code",
      "metadata": {
        "colab": {
          "base_uri": "https://localhost:8080/"
        },
        "id": "LTQFQZjiM85G",
        "outputId": "6d2e7623-73ab-4d42-f88f-2de72ea4a7e3"
      },
      "source": [
        "np.arange(16,0,-2)"
      ],
      "execution_count": null,
      "outputs": [
        {
          "output_type": "execute_result",
          "data": {
            "text/plain": [
              "array([16, 14, 12, 10,  8,  6,  4,  2])"
            ]
          },
          "metadata": {
            "tags": []
          },
          "execution_count": 41
        }
      ]
    },
    {
      "cell_type": "markdown",
      "metadata": {
        "id": "GQjKOcRlN9As"
      },
      "source": [
        "**linspace**\n",
        "\n",
        "\n",
        "linspace is use for generating a number of data into satatong point and ending point"
      ]
    },
    {
      "cell_type": "code",
      "metadata": {
        "colab": {
          "base_uri": "https://localhost:8080/"
        },
        "id": "6CtWxxemNl5G",
        "outputId": "8c1deddf-b2d3-40ef-8d6c-908ff446769f"
      },
      "source": [
        "np.linspace(1,5,50) #this example shows that the starting point is 1 and ending point is 5 and makes a 1-5 into 50 parts"
      ],
      "execution_count": null,
      "outputs": [
        {
          "output_type": "execute_result",
          "data": {
            "text/plain": [
              "array([1.        , 1.08163265, 1.16326531, 1.24489796, 1.32653061,\n",
              "       1.40816327, 1.48979592, 1.57142857, 1.65306122, 1.73469388,\n",
              "       1.81632653, 1.89795918, 1.97959184, 2.06122449, 2.14285714,\n",
              "       2.2244898 , 2.30612245, 2.3877551 , 2.46938776, 2.55102041,\n",
              "       2.63265306, 2.71428571, 2.79591837, 2.87755102, 2.95918367,\n",
              "       3.04081633, 3.12244898, 3.20408163, 3.28571429, 3.36734694,\n",
              "       3.44897959, 3.53061224, 3.6122449 , 3.69387755, 3.7755102 ,\n",
              "       3.85714286, 3.93877551, 4.02040816, 4.10204082, 4.18367347,\n",
              "       4.26530612, 4.34693878, 4.42857143, 4.51020408, 4.59183673,\n",
              "       4.67346939, 4.75510204, 4.83673469, 4.91836735, 5.        ])"
            ]
          },
          "metadata": {
            "tags": []
          },
          "execution_count": 42
        }
      ]
    },
    {
      "cell_type": "code",
      "metadata": {
        "colab": {
          "base_uri": "https://localhost:8080/"
        },
        "id": "noYGwU2BOSh0",
        "outputId": "a18c33fe-f82d-4ad3-a1ac-692e4ac2343a"
      },
      "source": [
        "np.linspace(1,5,10,endpoint=False)  #if we dont want end point then we can set as endpoint=False"
      ],
      "execution_count": null,
      "outputs": [
        {
          "output_type": "execute_result",
          "data": {
            "text/plain": [
              "array([1. , 1.4, 1.8, 2.2, 2.6, 3. , 3.4, 3.8, 4.2, 4.6])"
            ]
          },
          "metadata": {
            "tags": []
          },
          "execution_count": 43
        }
      ]
    },
    {
      "cell_type": "code",
      "metadata": {
        "colab": {
          "base_uri": "https://localhost:8080/"
        },
        "id": "s1Ogwj_wPHEj",
        "outputId": "5e817072-3f83-4500-a46e-ceaf0f3666d0"
      },
      "source": [
        "np.linspace(2,3,5,retstep=True)  #restep means the distance between 2 steps"
      ],
      "execution_count": null,
      "outputs": [
        {
          "output_type": "execute_result",
          "data": {
            "text/plain": [
              "(array([2.  , 2.25, 2.5 , 2.75, 3.  ]), 0.25)"
            ]
          },
          "metadata": {
            "tags": []
          },
          "execution_count": 44
        }
      ]
    },
    {
      "cell_type": "markdown",
      "metadata": {
        "id": "x84njfCXP0B0"
      },
      "source": [
        "**zeros**"
      ]
    },
    {
      "cell_type": "code",
      "metadata": {
        "colab": {
          "base_uri": "https://localhost:8080/"
        },
        "id": "IEVyfUMKPu5v",
        "outputId": "d33b7459-00b8-48d5-e93e-f07ea7e808e1"
      },
      "source": [
        "np.zeros(5)"
      ],
      "execution_count": null,
      "outputs": [
        {
          "output_type": "execute_result",
          "data": {
            "text/plain": [
              "array([0., 0., 0., 0., 0.])"
            ]
          },
          "metadata": {
            "tags": []
          },
          "execution_count": 45
        }
      ]
    },
    {
      "cell_type": "code",
      "metadata": {
        "colab": {
          "base_uri": "https://localhost:8080/"
        },
        "id": "Jx_9M2ryP9TY",
        "outputId": "b2a6f135-f87a-4b63-bd70-8d75e3b1dc7f"
      },
      "source": [
        "np.zeros((3,4))"
      ],
      "execution_count": null,
      "outputs": [
        {
          "output_type": "execute_result",
          "data": {
            "text/plain": [
              "array([[0., 0., 0., 0.],\n",
              "       [0., 0., 0., 0.],\n",
              "       [0., 0., 0., 0.]])"
            ]
          },
          "metadata": {
            "tags": []
          },
          "execution_count": 46
        }
      ]
    },
    {
      "cell_type": "markdown",
      "metadata": {
        "id": "OkC3b7Q5QTce"
      },
      "source": [
        "**ones**"
      ]
    },
    {
      "cell_type": "code",
      "metadata": {
        "colab": {
          "base_uri": "https://localhost:8080/"
        },
        "id": "35vZtVTSQNWe",
        "outputId": "74096859-507b-4481-d74d-56046ee265d0"
      },
      "source": [
        "np.ones(5)"
      ],
      "execution_count": null,
      "outputs": [
        {
          "output_type": "execute_result",
          "data": {
            "text/plain": [
              "array([1., 1., 1., 1., 1.])"
            ]
          },
          "metadata": {
            "tags": []
          },
          "execution_count": 47
        }
      ]
    },
    {
      "cell_type": "code",
      "metadata": {
        "colab": {
          "base_uri": "https://localhost:8080/"
        },
        "id": "moJaX5e0QWsX",
        "outputId": "c9d4776f-5a26-48f4-f3b1-eded4113acc9"
      },
      "source": [
        "np.ones((3,4))"
      ],
      "execution_count": null,
      "outputs": [
        {
          "output_type": "execute_result",
          "data": {
            "text/plain": [
              "array([[1., 1., 1., 1.],\n",
              "       [1., 1., 1., 1.],\n",
              "       [1., 1., 1., 1.]])"
            ]
          },
          "metadata": {
            "tags": []
          },
          "execution_count": 48
        }
      ]
    },
    {
      "cell_type": "code",
      "metadata": {
        "colab": {
          "base_uri": "https://localhost:8080/"
        },
        "id": "qTdh6r5HQZcW",
        "outputId": "d217d85d-9642-4296-a66d-d17d26987c66"
      },
      "source": [
        "np.ones((3,2,4))"
      ],
      "execution_count": null,
      "outputs": [
        {
          "output_type": "execute_result",
          "data": {
            "text/plain": [
              "array([[[1., 1., 1., 1.],\n",
              "        [1., 1., 1., 1.]],\n",
              "\n",
              "       [[1., 1., 1., 1.],\n",
              "        [1., 1., 1., 1.]],\n",
              "\n",
              "       [[1., 1., 1., 1.],\n",
              "        [1., 1., 1., 1.]]])"
            ]
          },
          "metadata": {
            "tags": []
          },
          "execution_count": 49
        }
      ]
    },
    {
      "cell_type": "code",
      "metadata": {
        "colab": {
          "base_uri": "https://localhost:8080/"
        },
        "id": "vYtz7wDcQg12",
        "outputId": "ac95d028-553c-4dd5-8f7e-6f1ec2d1b3a1"
      },
      "source": [
        "#Matrix of 5\n",
        "\n",
        "4+np.ones((3,5))"
      ],
      "execution_count": null,
      "outputs": [
        {
          "output_type": "execute_result",
          "data": {
            "text/plain": [
              "array([[5., 5., 5., 5., 5.],\n",
              "       [5., 5., 5., 5., 5.],\n",
              "       [5., 5., 5., 5., 5.]])"
            ]
          },
          "metadata": {
            "tags": []
          },
          "execution_count": 50
        }
      ]
    },
    {
      "cell_type": "markdown",
      "metadata": {
        "id": "9H0xbUT0QrYN"
      },
      "source": [
        "**empty**"
      ]
    },
    {
      "cell_type": "markdown",
      "metadata": {
        "id": "pSmqRzfsRJtv"
      },
      "source": [
        "It can be returns a previeus array if threr is notjing have any array then it can be return empty array"
      ]
    },
    {
      "cell_type": "markdown",
      "metadata": {
        "id": "boTishaERVKF"
      },
      "source": [
        "**eye**"
      ]
    },
    {
      "cell_type": "markdown",
      "metadata": {
        "id": "lcV4Bhz7RamU"
      },
      "source": [
        "It can be return a identity matrix"
      ]
    },
    {
      "cell_type": "code",
      "metadata": {
        "colab": {
          "base_uri": "https://localhost:8080/"
        },
        "id": "UUG0tN5BRChO",
        "outputId": "7588abb6-54c7-4568-9a48-45fba2cbff64"
      },
      "source": [
        "np.eye(4)"
      ],
      "execution_count": null,
      "outputs": [
        {
          "output_type": "execute_result",
          "data": {
            "text/plain": [
              "array([[1., 0., 0., 0.],\n",
              "       [0., 1., 0., 0.],\n",
              "       [0., 0., 1., 0.],\n",
              "       [0., 0., 0., 1.]])"
            ]
          },
          "metadata": {
            "tags": []
          },
          "execution_count": 51
        }
      ]
    },
    {
      "cell_type": "markdown",
      "metadata": {
        "id": "sRrHEySyRlBL"
      },
      "source": [
        "**logspace**"
      ]
    },
    {
      "cell_type": "code",
      "metadata": {
        "colab": {
          "base_uri": "https://localhost:8080/"
        },
        "id": "RRyTp-UvREcM",
        "outputId": "0df7c2c0-98aa-4d13-bde7-fa596d2064ee"
      },
      "source": [
        "np.logspace(2.0,3.0,num=4,base=10)"
      ],
      "execution_count": null,
      "outputs": [
        {
          "output_type": "execute_result",
          "data": {
            "text/plain": [
              "array([ 100.        ,  215.443469  ,  464.15888336, 1000.        ])"
            ]
          },
          "metadata": {
            "tags": []
          },
          "execution_count": 52
        }
      ]
    },
    {
      "cell_type": "code",
      "metadata": {
        "colab": {
          "base_uri": "https://localhost:8080/"
        },
        "id": "bGOS_kHtRuVT",
        "outputId": "9b649b5b-a557-4fef-dad2-b9730bf76523"
      },
      "source": [
        "np.logspace(2.0,3.0,num=4,endpoint=False)"
      ],
      "execution_count": null,
      "outputs": [
        {
          "output_type": "execute_result",
          "data": {
            "text/plain": [
              "array([100.        , 177.827941  , 316.22776602, 562.34132519])"
            ]
          },
          "metadata": {
            "tags": []
          },
          "execution_count": 53
        }
      ]
    },
    {
      "cell_type": "code",
      "metadata": {
        "colab": {
          "base_uri": "https://localhost:8080/"
        },
        "id": "RQnBOtnlR0iK",
        "outputId": "7ee9fc41-9edf-44f4-b12b-d44e72e113f8"
      },
      "source": [
        "np.logspace(2.0,3.0,num=4,base=2)"
      ],
      "execution_count": null,
      "outputs": [
        {
          "output_type": "execute_result",
          "data": {
            "text/plain": [
              "array([4.        , 5.0396842 , 6.34960421, 8.        ])"
            ]
          },
          "metadata": {
            "tags": []
          },
          "execution_count": 54
        }
      ]
    },
    {
      "cell_type": "markdown",
      "metadata": {
        "id": "0G573_3vR8o-"
      },
      "source": [
        "**reshape**"
      ]
    },
    {
      "cell_type": "markdown",
      "metadata": {
        "id": "JSaZR7icSCgN"
      },
      "source": [
        "reshape is use for reshaping an array or change the shape of array.Every time if we want to reshape the data ,dimension and shape should always be equal to the no. of multiples of data which is always is availabe otherwise we can be get error"
      ]
    },
    {
      "cell_type": "code",
      "metadata": {
        "colab": {
          "base_uri": "https://localhost:8080/"
        },
        "id": "r6MpTQiMR6Yy",
        "outputId": "04f95370-cd4b-4f41-bc78-7c75eb5f90ec"
      },
      "source": [
        "x=np.arange(16)\n",
        "x.reshape((-1,4))"
      ],
      "execution_count": null,
      "outputs": [
        {
          "output_type": "execute_result",
          "data": {
            "text/plain": [
              "array([[ 0,  1,  2,  3],\n",
              "       [ 4,  5,  6,  7],\n",
              "       [ 8,  9, 10, 11],\n",
              "       [12, 13, 14, 15]])"
            ]
          },
          "metadata": {
            "tags": []
          },
          "execution_count": 55
        }
      ]
    },
    {
      "cell_type": "code",
      "metadata": {
        "colab": {
          "base_uri": "https://localhost:8080/"
        },
        "id": "aLOdcxFSS8q4",
        "outputId": "dace32de-2018-4754-c36c-8247ed339d31"
      },
      "source": [
        "np.arange(16).reshape((8,2,1))"
      ],
      "execution_count": null,
      "outputs": [
        {
          "output_type": "execute_result",
          "data": {
            "text/plain": [
              "array([[[ 0],\n",
              "        [ 1]],\n",
              "\n",
              "       [[ 2],\n",
              "        [ 3]],\n",
              "\n",
              "       [[ 4],\n",
              "        [ 5]],\n",
              "\n",
              "       [[ 6],\n",
              "        [ 7]],\n",
              "\n",
              "       [[ 8],\n",
              "        [ 9]],\n",
              "\n",
              "       [[10],\n",
              "        [11]],\n",
              "\n",
              "       [[12],\n",
              "        [13]],\n",
              "\n",
              "       [[14],\n",
              "        [15]]])"
            ]
          },
          "metadata": {
            "tags": []
          },
          "execution_count": 56
        }
      ]
    },
    {
      "cell_type": "markdown",
      "metadata": {
        "id": "PVYz03mmTQoJ"
      },
      "source": [
        "**diag**"
      ]
    },
    {
      "cell_type": "markdown",
      "metadata": {
        "id": "8CWU5_5hTVEg"
      },
      "source": [
        "If we want to get in  diagonal then we can use this function"
      ]
    },
    {
      "cell_type": "code",
      "metadata": {
        "colab": {
          "base_uri": "https://localhost:8080/"
        },
        "id": "RVfzi_vKTNjv",
        "outputId": "8f13fbb8-acb2-44d8-f94d-5387ed2ea8ad"
      },
      "source": [
        "x=np.arange(1,17).reshape((4,-1))\n",
        "x"
      ],
      "execution_count": null,
      "outputs": [
        {
          "output_type": "execute_result",
          "data": {
            "text/plain": [
              "array([[ 1,  2,  3,  4],\n",
              "       [ 5,  6,  7,  8],\n",
              "       [ 9, 10, 11, 12],\n",
              "       [13, 14, 15, 16]])"
            ]
          },
          "metadata": {
            "tags": []
          },
          "execution_count": 57
        }
      ]
    },
    {
      "cell_type": "code",
      "metadata": {
        "colab": {
          "base_uri": "https://localhost:8080/"
        },
        "id": "aeblcmeQTpE-",
        "outputId": "4fa4d4f3-d345-4ccf-eb4a-dafd80a01487"
      },
      "source": [
        "np.diag(x)"
      ],
      "execution_count": null,
      "outputs": [
        {
          "output_type": "execute_result",
          "data": {
            "text/plain": [
              "array([ 1,  6, 11, 16])"
            ]
          },
          "metadata": {
            "tags": []
          },
          "execution_count": 58
        }
      ]
    },
    {
      "cell_type": "code",
      "metadata": {
        "colab": {
          "base_uri": "https://localhost:8080/"
        },
        "id": "X8modUYITume",
        "outputId": "65026a28-b123-4c66-bf5e-ef2aadeca50b"
      },
      "source": [
        "np.diag(x,k=2)"
      ],
      "execution_count": null,
      "outputs": [
        {
          "output_type": "execute_result",
          "data": {
            "text/plain": [
              "array([3, 8])"
            ]
          },
          "metadata": {
            "tags": []
          },
          "execution_count": 59
        }
      ]
    },
    {
      "cell_type": "code",
      "metadata": {
        "colab": {
          "base_uri": "https://localhost:8080/"
        },
        "id": "FcglNqkfTyVO",
        "outputId": "1003de10-2995-4231-fcf1-b15d3e864774"
      },
      "source": [
        "np.diag(x,k=-1)"
      ],
      "execution_count": null,
      "outputs": [
        {
          "output_type": "execute_result",
          "data": {
            "text/plain": [
              "array([ 5, 10, 15])"
            ]
          },
          "metadata": {
            "tags": []
          },
          "execution_count": 60
        }
      ]
    },
    {
      "cell_type": "code",
      "metadata": {
        "colab": {
          "base_uri": "https://localhost:8080/"
        },
        "id": "9dAfArPJT9eF",
        "outputId": "2212eaeb-39b6-4e85-fb13-e4e6e6ab409f"
      },
      "source": [
        "np.diag(np.diag(x))"
      ],
      "execution_count": null,
      "outputs": [
        {
          "output_type": "execute_result",
          "data": {
            "text/plain": [
              "array([[ 1,  0,  0,  0],\n",
              "       [ 0,  6,  0,  0],\n",
              "       [ 0,  0, 11,  0],\n",
              "       [ 0,  0,  0, 16]])"
            ]
          },
          "metadata": {
            "tags": []
          },
          "execution_count": 61
        }
      ]
    },
    {
      "cell_type": "code",
      "metadata": {
        "colab": {
          "base_uri": "https://localhost:8080/"
        },
        "id": "pk40H2uDUCV9",
        "outputId": "923d66df-31a9-4ed0-d72a-72a5eda7657f"
      },
      "source": [
        "np.diag(x,k=4)  #it can be return empty because k=4 is not in array"
      ],
      "execution_count": null,
      "outputs": [
        {
          "output_type": "execute_result",
          "data": {
            "text/plain": [
              "array([], dtype=int64)"
            ]
          },
          "metadata": {
            "tags": []
          },
          "execution_count": 62
        }
      ]
    },
    {
      "cell_type": "markdown",
      "metadata": {
        "id": "eXDOFnOJUSBQ"
      },
      "source": [
        "**diagflat**"
      ]
    },
    {
      "cell_type": "markdown",
      "metadata": {
        "id": "YQaiY2J0Uast"
      },
      "source": [
        "diagflat is use to convert flattened list into a diagonal array"
      ]
    },
    {
      "cell_type": "code",
      "metadata": {
        "colab": {
          "base_uri": "https://localhost:8080/"
        },
        "id": "8sxLEeqeUGn1",
        "outputId": "69c79006-717b-4b19-a8af-1dde45eb546d"
      },
      "source": [
        "np.diagflat([[1,2],[3,4]])"
      ],
      "execution_count": null,
      "outputs": [
        {
          "output_type": "execute_result",
          "data": {
            "text/plain": [
              "array([[1, 0, 0, 0],\n",
              "       [0, 2, 0, 0],\n",
              "       [0, 0, 3, 0],\n",
              "       [0, 0, 0, 4]])"
            ]
          },
          "metadata": {
            "tags": []
          },
          "execution_count": 63
        }
      ]
    },
    {
      "cell_type": "code",
      "metadata": {
        "colab": {
          "base_uri": "https://localhost:8080/"
        },
        "id": "RN2SU4sAUrwN",
        "outputId": "25855521-3078-437a-ff11-14499dd8d9d9"
      },
      "source": [
        "np.diagflat([1,2],1)"
      ],
      "execution_count": null,
      "outputs": [
        {
          "output_type": "execute_result",
          "data": {
            "text/plain": [
              "array([[0, 1, 0],\n",
              "       [0, 0, 2],\n",
              "       [0, 0, 0]])"
            ]
          },
          "metadata": {
            "tags": []
          },
          "execution_count": 64
        }
      ]
    },
    {
      "cell_type": "code",
      "metadata": {
        "colab": {
          "base_uri": "https://localhost:8080/"
        },
        "id": "07j-DMOqUxm7",
        "outputId": "cc7566f1-9215-4fe7-dd37-eb870a7a1a9a"
      },
      "source": [
        "np.diagflat([1,2],-1)"
      ],
      "execution_count": null,
      "outputs": [
        {
          "output_type": "execute_result",
          "data": {
            "text/plain": [
              "array([[0, 0, 0],\n",
              "       [1, 0, 0],\n",
              "       [0, 2, 0]])"
            ]
          },
          "metadata": {
            "tags": []
          },
          "execution_count": 65
        }
      ]
    },
    {
      "cell_type": "markdown",
      "metadata": {
        "id": "HWMHBwZGU-WR"
      },
      "source": [
        "**tri (trigonal)**"
      ]
    },
    {
      "cell_type": "code",
      "metadata": {
        "colab": {
          "base_uri": "https://localhost:8080/"
        },
        "id": "tuaYKU0XU1Fb",
        "outputId": "62f8eb72-186e-4066-dfd1-3243d713a726"
      },
      "source": [
        "np.tri(3,3,0, dtype=int)#there is a no. of rows and coloumns is 3 and k=0 means from k=0 to lower part of array is 1"
      ],
      "execution_count": null,
      "outputs": [
        {
          "output_type": "execute_result",
          "data": {
            "text/plain": [
              "array([[1, 0, 0],\n",
              "       [1, 1, 0],\n",
              "       [1, 1, 1]])"
            ]
          },
          "metadata": {
            "tags": []
          },
          "execution_count": 66
        }
      ]
    },
    {
      "cell_type": "code",
      "metadata": {
        "colab": {
          "base_uri": "https://localhost:8080/"
        },
        "id": "_1cxs4fnVIB6",
        "outputId": "b3286a75-a518-4d9c-ad05-9775de1379f1"
      },
      "source": [
        "np.tri(3,5,k=-1)"
      ],
      "execution_count": null,
      "outputs": [
        {
          "output_type": "execute_result",
          "data": {
            "text/plain": [
              "array([[0., 0., 0., 0., 0.],\n",
              "       [1., 0., 0., 0., 0.],\n",
              "       [1., 1., 0., 0., 0.]])"
            ]
          },
          "metadata": {
            "tags": []
          },
          "execution_count": 67
        }
      ]
    },
    {
      "cell_type": "code",
      "metadata": {
        "colab": {
          "base_uri": "https://localhost:8080/"
        },
        "id": "5cz0iv9rVdcZ",
        "outputId": "74c59d96-c38c-48b0-f29d-8df296b8d1f0"
      },
      "source": [
        "np.tri(3,3,k=1)"
      ],
      "execution_count": null,
      "outputs": [
        {
          "output_type": "execute_result",
          "data": {
            "text/plain": [
              "array([[1., 1., 0.],\n",
              "       [1., 1., 1.],\n",
              "       [1., 1., 1.]])"
            ]
          },
          "metadata": {
            "tags": []
          },
          "execution_count": 68
        }
      ]
    },
    {
      "cell_type": "markdown",
      "metadata": {
        "id": "aC5qTaRkVkrV"
      },
      "source": [
        "**tril**"
      ]
    },
    {
      "cell_type": "markdown",
      "metadata": {
        "id": "FiY-mcibVwFD"
      },
      "source": [
        "return a lower triangle of an array and rest of array is 0"
      ]
    },
    {
      "cell_type": "code",
      "metadata": {
        "colab": {
          "base_uri": "https://localhost:8080/"
        },
        "id": "5TvyewPtVh2J",
        "outputId": "7e449c88-d17a-438f-8f43-df52d6d52c71"
      },
      "source": [
        "np.tril([[1,2,3],[4,5,6],[7,8,9]],0)"
      ],
      "execution_count": null,
      "outputs": [
        {
          "output_type": "execute_result",
          "data": {
            "text/plain": [
              "array([[1, 0, 0],\n",
              "       [4, 5, 0],\n",
              "       [7, 8, 9]])"
            ]
          },
          "metadata": {
            "tags": []
          },
          "execution_count": 69
        }
      ]
    },
    {
      "cell_type": "code",
      "metadata": {
        "colab": {
          "base_uri": "https://localhost:8080/"
        },
        "id": "Lwc0weCFV_rX",
        "outputId": "865bb63a-c80d-4f34-944f-77692e6a14e6"
      },
      "source": [
        "np.tril([[1,2,3],[4,5,6],[7,8,9]],1)"
      ],
      "execution_count": null,
      "outputs": [
        {
          "output_type": "execute_result",
          "data": {
            "text/plain": [
              "array([[1, 2, 0],\n",
              "       [4, 5, 6],\n",
              "       [7, 8, 9]])"
            ]
          },
          "metadata": {
            "tags": []
          },
          "execution_count": 70
        }
      ]
    },
    {
      "cell_type": "markdown",
      "metadata": {
        "id": "M9VpF_4IWH7z"
      },
      "source": [
        "**triu**"
      ]
    },
    {
      "cell_type": "markdown",
      "metadata": {
        "id": "HPLiPO22WMXB"
      },
      "source": [
        "return a upper triangle of an array and rest of array is 0"
      ]
    },
    {
      "cell_type": "code",
      "metadata": {
        "colab": {
          "base_uri": "https://localhost:8080/"
        },
        "id": "NAGzo89MWGXf",
        "outputId": "9fa5117e-cb68-4f86-d878-e007d1150e37"
      },
      "source": [
        "np.triu([[1,2,3],[4,5,6],[7,8,9]],0)"
      ],
      "execution_count": null,
      "outputs": [
        {
          "output_type": "execute_result",
          "data": {
            "text/plain": [
              "array([[1, 2, 3],\n",
              "       [0, 5, 6],\n",
              "       [0, 0, 9]])"
            ]
          },
          "metadata": {
            "tags": []
          },
          "execution_count": 71
        }
      ]
    },
    {
      "cell_type": "code",
      "metadata": {
        "colab": {
          "base_uri": "https://localhost:8080/"
        },
        "id": "E7r3pT4GWTEg",
        "outputId": "10aa25cf-ce52-4fa3-a9f4-b76fb1ec7afc"
      },
      "source": [
        "np.triu([[1,2,3],[4,5,6],[7,8,9]],1)"
      ],
      "execution_count": null,
      "outputs": [
        {
          "output_type": "execute_result",
          "data": {
            "text/plain": [
              "array([[0, 2, 3],\n",
              "       [0, 0, 6],\n",
              "       [0, 0, 0]])"
            ]
          },
          "metadata": {
            "tags": []
          },
          "execution_count": 72
        }
      ]
    },
    {
      "cell_type": "markdown",
      "metadata": {
        "id": "LiE7Qm6SWbIc"
      },
      "source": [
        "# Random number generation"
      ]
    },
    {
      "cell_type": "markdown",
      "metadata": {
        "id": "VXEcSAQXREpw"
      },
      "source": [
        "**random.rand**\n",
        "\n",
        "can be genarate array of given shape with uniform distribution (means between '0-1)"
      ]
    },
    {
      "cell_type": "code",
      "metadata": {
        "id": "f8BKMdGwWXBe",
        "colab": {
          "base_uri": "https://localhost:8080/"
        },
        "outputId": "c08e97e1-de74-4420-c705-9b3b5b7b5d33"
      },
      "source": [
        "np.random.rand(2,3)"
      ],
      "execution_count": null,
      "outputs": [
        {
          "output_type": "execute_result",
          "data": {
            "text/plain": [
              "array([[0.01123893, 0.51850712, 0.4142182 ],\n",
              "       [0.85610754, 0.62142111, 0.9085043 ]])"
            ]
          },
          "metadata": {
            "tags": []
          },
          "execution_count": 73
        }
      ]
    },
    {
      "cell_type": "markdown",
      "metadata": {
        "id": "AIl2sM7CRnrD"
      },
      "source": [
        "**random.randn**\n",
        "\n",
        "can be genarate array of given shape with normal distribution with zero mean and standard deviation"
      ]
    },
    {
      "cell_type": "code",
      "metadata": {
        "colab": {
          "base_uri": "https://localhost:8080/"
        },
        "id": "SzEaypm0RkLn",
        "outputId": "013dbb86-07d9-477d-b5cb-e9652d6b99ff"
      },
      "source": [
        "np.random.randn(2,3)"
      ],
      "execution_count": null,
      "outputs": [
        {
          "output_type": "execute_result",
          "data": {
            "text/plain": [
              "array([[-0.53251373,  1.22692444,  1.54382879],\n",
              "       [ 0.62942413,  0.45484622, -1.54343442]])"
            ]
          },
          "metadata": {
            "tags": []
          },
          "execution_count": 74
        }
      ]
    },
    {
      "cell_type": "markdown",
      "metadata": {
        "id": "mPH-3vVHSIMX"
      },
      "source": [
        "**random.randint**\n",
        "\n",
        "can be genarate a array or a random number between starting_point and ending_point"
      ]
    },
    {
      "cell_type": "code",
      "metadata": {
        "colab": {
          "base_uri": "https://localhost:8080/"
        },
        "id": "PtRYtC9USEb2",
        "outputId": "a2a15684-164f-4e1b-9c90-131b623f443d"
      },
      "source": [
        "np.random.randint(1,10)"
      ],
      "execution_count": null,
      "outputs": [
        {
          "output_type": "execute_result",
          "data": {
            "text/plain": [
              "7"
            ]
          },
          "metadata": {
            "tags": []
          },
          "execution_count": 75
        }
      ]
    },
    {
      "cell_type": "code",
      "metadata": {
        "colab": {
          "base_uri": "https://localhost:8080/"
        },
        "id": "nHkBNwBcSfp8",
        "outputId": "7c1221d5-6ad5-43fc-920c-97725ac0d940"
      },
      "source": [
        "np.random.randint(1,100,(4,4))"
      ],
      "execution_count": null,
      "outputs": [
        {
          "output_type": "execute_result",
          "data": {
            "text/plain": [
              "array([[82, 29, 43, 52],\n",
              "       [69,  8, 32, 91],\n",
              "       [80,  5, 61, 58],\n",
              "       [35, 68, 51, 56]])"
            ]
          },
          "metadata": {
            "tags": []
          },
          "execution_count": 76
        }
      ]
    },
    {
      "cell_type": "code",
      "metadata": {
        "colab": {
          "base_uri": "https://localhost:8080/"
        },
        "id": "SGyQfy0ESlZr",
        "outputId": "58269e6b-2008-4d3c-d34f-f76aff0bd477"
      },
      "source": [
        "np.random.randint(1,7,20)  #creating 20 samples with random no. 1 to 6"
      ],
      "execution_count": null,
      "outputs": [
        {
          "output_type": "execute_result",
          "data": {
            "text/plain": [
              "array([5, 4, 2, 4, 5, 2, 5, 5, 2, 3, 4, 6, 5, 1, 5, 3, 2, 1, 1, 4])"
            ]
          },
          "metadata": {
            "tags": []
          },
          "execution_count": 77
        }
      ]
    },
    {
      "cell_type": "markdown",
      "metadata": {
        "id": "9bI-_FF9S1tc"
      },
      "source": [
        "**reshaping**"
      ]
    },
    {
      "cell_type": "code",
      "metadata": {
        "colab": {
          "base_uri": "https://localhost:8080/"
        },
        "id": "g-OHP70QSwzj",
        "outputId": "28ea5f4e-aa1a-4c3a-ebd8-cfa2094e7879"
      },
      "source": [
        "a=np.random.randint(1,100,30)\n",
        "a"
      ],
      "execution_count": null,
      "outputs": [
        {
          "output_type": "execute_result",
          "data": {
            "text/plain": [
              "array([59, 99, 53, 96, 82, 11, 88, 84, 31, 14, 10, 95, 15, 31, 79, 88, 28,\n",
              "       90, 22, 82, 60, 17, 57, 77,  9, 41, 79, 59, 72,  8])"
            ]
          },
          "metadata": {
            "tags": []
          },
          "execution_count": 79
        }
      ]
    },
    {
      "cell_type": "code",
      "metadata": {
        "colab": {
          "base_uri": "https://localhost:8080/"
        },
        "id": "Ba1Drys7S9ZS",
        "outputId": "b26f807f-a3ac-4872-b5ab-9cbdf4c1d34b"
      },
      "source": [
        "b=a.reshape(2,3,5)\n",
        "b"
      ],
      "execution_count": null,
      "outputs": [
        {
          "output_type": "execute_result",
          "data": {
            "text/plain": [
              "array([[[59, 99, 53, 96, 82],\n",
              "        [11, 88, 84, 31, 14],\n",
              "        [10, 95, 15, 31, 79]],\n",
              "\n",
              "       [[88, 28, 90, 22, 82],\n",
              "        [60, 17, 57, 77,  9],\n",
              "        [41, 79, 59, 72,  8]]])"
            ]
          },
          "metadata": {
            "tags": []
          },
          "execution_count": 81
        }
      ]
    },
    {
      "cell_type": "code",
      "metadata": {
        "colab": {
          "base_uri": "https://localhost:8080/"
        },
        "id": "nw2hDNR8TIjR",
        "outputId": "bcc2f39d-d805-497a-a951-ee2076275630"
      },
      "source": [
        "c=a.reshape(6,-1)\n",
        "c"
      ],
      "execution_count": null,
      "outputs": [
        {
          "output_type": "execute_result",
          "data": {
            "text/plain": [
              "array([[59, 99, 53, 96, 82],\n",
              "       [11, 88, 84, 31, 14],\n",
              "       [10, 95, 15, 31, 79],\n",
              "       [88, 28, 90, 22, 82],\n",
              "       [60, 17, 57, 77,  9],\n",
              "       [41, 79, 59, 72,  8]])"
            ]
          },
          "metadata": {
            "tags": []
          },
          "execution_count": 83
        }
      ]
    },
    {
      "cell_type": "markdown",
      "metadata": {
        "id": "7wXqjFWqTZMa"
      },
      "source": [
        "**shape**\n",
        "\n",
        "It can be return a shape of array"
      ]
    },
    {
      "cell_type": "markdown",
      "metadata": {
        "id": "lZGrw1QSTc12"
      },
      "source": [
        "**sort**"
      ]
    },
    {
      "cell_type": "code",
      "metadata": {
        "colab": {
          "base_uri": "https://localhost:8080/"
        },
        "id": "X8gKCcTuTSrx",
        "outputId": "7d6afbfa-84b2-481c-9a4a-0fe71771362f"
      },
      "source": [
        "a=np.random.randint(1,100,10)\n",
        "a"
      ],
      "execution_count": null,
      "outputs": [
        {
          "output_type": "execute_result",
          "data": {
            "text/plain": [
              "array([94, 40, 73,  6, 84, 21, 42, 88, 77,  1])"
            ]
          },
          "metadata": {
            "tags": []
          },
          "execution_count": 84
        }
      ]
    },
    {
      "cell_type": "code",
      "metadata": {
        "colab": {
          "base_uri": "https://localhost:8080/"
        },
        "id": "vwLjdalbTu9Y",
        "outputId": "59cf6cab-34de-45d1-807a-e76ab5a2d33b"
      },
      "source": [
        "np.sort(a)"
      ],
      "execution_count": null,
      "outputs": [
        {
          "output_type": "execute_result",
          "data": {
            "text/plain": [
              "array([ 1,  6, 21, 40, 42, 73, 77, 84, 88, 94])"
            ]
          },
          "metadata": {
            "tags": []
          },
          "execution_count": 85
        }
      ]
    },
    {
      "cell_type": "code",
      "metadata": {
        "colab": {
          "base_uri": "https://localhost:8080/"
        },
        "id": "aJjI1ILwTyQX",
        "outputId": "43d4fc13-72d2-42b5-ffdc-d4e824d2e2e2"
      },
      "source": [
        "x=np.random.randint(1,100,60).reshape(4,5,3)\n",
        "x"
      ],
      "execution_count": null,
      "outputs": [
        {
          "output_type": "execute_result",
          "data": {
            "text/plain": [
              "array([[[42, 96, 98],\n",
              "        [ 2, 69,  5],\n",
              "        [11, 53, 16],\n",
              "        [85, 58, 90],\n",
              "        [30, 92, 44]],\n",
              "\n",
              "       [[24, 97,  3],\n",
              "        [62, 97, 72],\n",
              "        [44, 35, 34],\n",
              "        [91, 57, 23],\n",
              "        [38, 10, 68]],\n",
              "\n",
              "       [[79, 96, 91],\n",
              "        [74, 91, 42],\n",
              "        [90, 92, 29],\n",
              "        [15, 54,  7],\n",
              "        [78, 74, 79]],\n",
              "\n",
              "       [[12, 51, 25],\n",
              "        [78, 51,  3],\n",
              "        [ 5, 63, 36],\n",
              "        [26, 58, 43],\n",
              "        [97, 17, 21]]])"
            ]
          },
          "metadata": {
            "tags": []
          },
          "execution_count": 91
        }
      ]
    },
    {
      "cell_type": "code",
      "metadata": {
        "colab": {
          "base_uri": "https://localhost:8080/"
        },
        "id": "6zvFFCgFT-cQ",
        "outputId": "3a78f2ff-c689-4b1e-fc06-e1f4ea1892cd"
      },
      "source": [
        "np.sort(x,axis=0)"
      ],
      "execution_count": null,
      "outputs": [
        {
          "output_type": "execute_result",
          "data": {
            "text/plain": [
              "array([[[12, 51,  3],\n",
              "        [ 2, 51,  3],\n",
              "        [ 5, 35, 16],\n",
              "        [15, 54,  7],\n",
              "        [30, 10, 21]],\n",
              "\n",
              "       [[24, 96, 25],\n",
              "        [62, 69,  5],\n",
              "        [11, 53, 29],\n",
              "        [26, 57, 23],\n",
              "        [38, 17, 44]],\n",
              "\n",
              "       [[42, 96, 91],\n",
              "        [74, 91, 42],\n",
              "        [44, 63, 34],\n",
              "        [85, 58, 43],\n",
              "        [78, 74, 68]],\n",
              "\n",
              "       [[79, 97, 98],\n",
              "        [78, 97, 72],\n",
              "        [90, 92, 36],\n",
              "        [91, 58, 90],\n",
              "        [97, 92, 79]]])"
            ]
          },
          "metadata": {
            "tags": []
          },
          "execution_count": 96
        }
      ]
    },
    {
      "cell_type": "code",
      "metadata": {
        "colab": {
          "base_uri": "https://localhost:8080/"
        },
        "id": "6_8z7pLVUEPI",
        "outputId": "66a7a8c4-cbb0-48e5-d0b9-0ade7e7483dd"
      },
      "source": [
        "x=np.random.randint(1,100,25).reshape(5,5)\n",
        "x"
      ],
      "execution_count": null,
      "outputs": [
        {
          "output_type": "execute_result",
          "data": {
            "text/plain": [
              "array([[20, 90, 87,  4, 24],\n",
              "       [85, 13, 84, 62, 59],\n",
              "       [ 4, 85, 42, 97, 21],\n",
              "       [50, 94, 74, 97, 10],\n",
              "       [ 4, 74, 66, 86, 39]])"
            ]
          },
          "metadata": {
            "tags": []
          },
          "execution_count": 100
        }
      ]
    },
    {
      "cell_type": "code",
      "metadata": {
        "colab": {
          "base_uri": "https://localhost:8080/"
        },
        "id": "oZ8X18hCYr5j",
        "outputId": "a3ccd8da-87ea-4d86-ca68-6fa50b06eea0"
      },
      "source": [
        "np.sort(x,axis=1)"
      ],
      "execution_count": null,
      "outputs": [
        {
          "output_type": "execute_result",
          "data": {
            "text/plain": [
              "array([[ 4, 20, 24, 87, 90],\n",
              "       [13, 59, 62, 84, 85],\n",
              "       [ 4, 21, 42, 85, 97],\n",
              "       [10, 50, 74, 94, 97],\n",
              "       [ 4, 39, 66, 74, 86]])"
            ]
          },
          "metadata": {
            "tags": []
          },
          "execution_count": 101
        }
      ]
    },
    {
      "cell_type": "markdown",
      "metadata": {
        "id": "MCZV26SvY16Q"
      },
      "source": [
        "**max**"
      ]
    },
    {
      "cell_type": "code",
      "metadata": {
        "colab": {
          "base_uri": "https://localhost:8080/"
        },
        "id": "dYyYyRs5Y0O7",
        "outputId": "564cf8fc-7caa-47da-bed1-48c04c4bb154"
      },
      "source": [
        "a=np.array([15,33,40,5,20])\n",
        "a.max()"
      ],
      "execution_count": null,
      "outputs": [
        {
          "output_type": "execute_result",
          "data": {
            "text/plain": [
              "40"
            ]
          },
          "metadata": {
            "tags": []
          },
          "execution_count": 102
        }
      ]
    },
    {
      "cell_type": "markdown",
      "metadata": {
        "id": "R6kf6QC2ZEVv"
      },
      "source": [
        "**argmax()**\n",
        "\n",
        "argmax can be return a index of max value"
      ]
    },
    {
      "cell_type": "code",
      "metadata": {
        "colab": {
          "base_uri": "https://localhost:8080/"
        },
        "id": "THmfI1T-Y_cb",
        "outputId": "720b76b7-9ee9-4661-ec32-f690fddcee14"
      },
      "source": [
        "a=np.array([15,33,40,5,20])\n",
        "a.argmax()"
      ],
      "execution_count": null,
      "outputs": [
        {
          "output_type": "execute_result",
          "data": {
            "text/plain": [
              "2"
            ]
          },
          "metadata": {
            "tags": []
          },
          "execution_count": 103
        }
      ]
    },
    {
      "cell_type": "code",
      "metadata": {
        "colab": {
          "base_uri": "https://localhost:8080/"
        },
        "id": "s5QVkQckZrmo",
        "outputId": "129b3def-a8de-407a-ae5b-78b1cad876d7"
      },
      "source": [
        "a=np.random.randint(1,100,15).reshape(5,3)\n",
        "a"
      ],
      "execution_count": null,
      "outputs": [
        {
          "output_type": "execute_result",
          "data": {
            "text/plain": [
              "array([[19, 29, 54],\n",
              "       [31, 32, 14],\n",
              "       [79, 64, 44],\n",
              "       [35, 31, 57],\n",
              "       [55, 12,  2]])"
            ]
          },
          "metadata": {
            "tags": []
          },
          "execution_count": 109
        }
      ]
    },
    {
      "cell_type": "code",
      "metadata": {
        "colab": {
          "base_uri": "https://localhost:8080/"
        },
        "id": "-uKnBCuNZzgo",
        "outputId": "94abda1a-57a5-41d8-b89f-0dc82ec23833"
      },
      "source": [
        "a.argmax(axis=1)#here output is 5 becuase there is axis=1 hence no. of rows=5"
      ],
      "execution_count": null,
      "outputs": [
        {
          "output_type": "execute_result",
          "data": {
            "text/plain": [
              "array([2, 1, 0, 2, 0])"
            ]
          },
          "metadata": {
            "tags": []
          },
          "execution_count": 112
        }
      ]
    },
    {
      "cell_type": "markdown",
      "metadata": {
        "id": "BKWwZ3jkarPz"
      },
      "source": [
        "**Indexing & slicing**"
      ]
    },
    {
      "cell_type": "code",
      "metadata": {
        "colab": {
          "base_uri": "https://localhost:8080/"
        },
        "id": "hjLNVkZMaThA",
        "outputId": "b8490981-3857-482e-f533-20d118389eca"
      },
      "source": [
        "arr=np.random.randint(0,100,10)\n",
        "arr"
      ],
      "execution_count": null,
      "outputs": [
        {
          "output_type": "execute_result",
          "data": {
            "text/plain": [
              "array([72, 82, 77, 80, 35, 24,  7, 21,  2, 70])"
            ]
          },
          "metadata": {
            "tags": []
          },
          "execution_count": 114
        }
      ]
    },
    {
      "cell_type": "code",
      "metadata": {
        "colab": {
          "base_uri": "https://localhost:8080/"
        },
        "id": "SjKDuBcHa_Sm",
        "outputId": "8474ddd6-3f97-45f3-cc3e-6e36b431b08b"
      },
      "source": [
        "arr[3]"
      ],
      "execution_count": null,
      "outputs": [
        {
          "output_type": "execute_result",
          "data": {
            "text/plain": [
              "80"
            ]
          },
          "metadata": {
            "tags": []
          },
          "execution_count": 115
        }
      ]
    },
    {
      "cell_type": "code",
      "metadata": {
        "colab": {
          "base_uri": "https://localhost:8080/"
        },
        "id": "N4TUPxtlb2I7",
        "outputId": "753c6741-f119-4122-9632-8296d279f5ff"
      },
      "source": [
        "arr[:4]"
      ],
      "execution_count": null,
      "outputs": [
        {
          "output_type": "execute_result",
          "data": {
            "text/plain": [
              "array([72, 82, 77, 80])"
            ]
          },
          "metadata": {
            "tags": []
          },
          "execution_count": 116
        }
      ]
    },
    {
      "cell_type": "code",
      "metadata": {
        "colab": {
          "base_uri": "https://localhost:8080/"
        },
        "id": "7vI2M66mb5b6",
        "outputId": "ce8fb3c3-e4d5-4c46-9a9b-43c007e51dae"
      },
      "source": [
        "arr[-1:6:-1]"
      ],
      "execution_count": null,
      "outputs": [
        {
          "output_type": "execute_result",
          "data": {
            "text/plain": [
              "array([70,  2, 21])"
            ]
          },
          "metadata": {
            "tags": []
          },
          "execution_count": 118
        }
      ]
    },
    {
      "cell_type": "code",
      "metadata": {
        "colab": {
          "base_uri": "https://localhost:8080/"
        },
        "id": "zFmAxnWNdA0o",
        "outputId": "e9577815-cbc0-4324-ce78-a0dc6f82b322"
      },
      "source": [
        "a=np.random.randint(1,100,15).reshape(5,3)\n",
        "a"
      ],
      "execution_count": null,
      "outputs": [
        {
          "output_type": "execute_result",
          "data": {
            "text/plain": [
              "array([[87, 86, 96],\n",
              "       [26,  9, 77],\n",
              "       [87, 97, 54],\n",
              "       [63, 59,  4],\n",
              "       [36, 48, 12]])"
            ]
          },
          "metadata": {
            "tags": []
          },
          "execution_count": 119
        }
      ]
    },
    {
      "cell_type": "code",
      "metadata": {
        "colab": {
          "base_uri": "https://localhost:8080/"
        },
        "id": "5hA_ee-sdTlQ",
        "outputId": "da456f8e-d1de-49b4-bf82-2016f147c5f1"
      },
      "source": [
        "a[1]  #getting a 2nd column"
      ],
      "execution_count": null,
      "outputs": [
        {
          "output_type": "execute_result",
          "data": {
            "text/plain": [
              "array([26,  9, 77])"
            ]
          },
          "metadata": {
            "tags": []
          },
          "execution_count": 120
        }
      ]
    },
    {
      "cell_type": "code",
      "metadata": {
        "colab": {
          "base_uri": "https://localhost:8080/"
        },
        "id": "5oi8WgaLdYe4",
        "outputId": "8f321b2d-5d0f-42d5-efbe-24b45c12e354"
      },
      "source": [
        "a[1:4]  #getting a 2nd to 4th column"
      ],
      "execution_count": null,
      "outputs": [
        {
          "output_type": "execute_result",
          "data": {
            "text/plain": [
              "array([[26,  9, 77],\n",
              "       [87, 97, 54],\n",
              "       [63, 59,  4]])"
            ]
          },
          "metadata": {
            "tags": []
          },
          "execution_count": 121
        }
      ]
    },
    {
      "cell_type": "code",
      "metadata": {
        "colab": {
          "base_uri": "https://localhost:8080/"
        },
        "id": "GqEmVnRudg5n",
        "outputId": "0eb0fd0e-5f3e-43e9-aae4-44d6258167da"
      },
      "source": [
        "a[:,1]  #getting a 2nd row"
      ],
      "execution_count": null,
      "outputs": [
        {
          "output_type": "execute_result",
          "data": {
            "text/plain": [
              "array([86,  9, 97, 59, 48])"
            ]
          },
          "metadata": {
            "tags": []
          },
          "execution_count": 122
        }
      ]
    },
    {
      "cell_type": "code",
      "metadata": {
        "colab": {
          "base_uri": "https://localhost:8080/"
        },
        "id": "JLNBmhD5dl2P",
        "outputId": "535c1609-b319-4f09-aad9-52653e7a847f"
      },
      "source": [
        "a[:,1:3]"
      ],
      "execution_count": null,
      "outputs": [
        {
          "output_type": "execute_result",
          "data": {
            "text/plain": [
              "array([[86, 96],\n",
              "       [ 9, 77],\n",
              "       [97, 54],\n",
              "       [59,  4],\n",
              "       [48, 12]])"
            ]
          },
          "metadata": {
            "tags": []
          },
          "execution_count": 127
        }
      ]
    },
    {
      "cell_type": "code",
      "metadata": {
        "colab": {
          "base_uri": "https://localhost:8080/"
        },
        "id": "ou8Ev9IFeUZa",
        "outputId": "a2b5481e-14d9-4aae-a06e-6f02572ffe81"
      },
      "source": [
        "a[1,1:3]"
      ],
      "execution_count": null,
      "outputs": [
        {
          "output_type": "execute_result",
          "data": {
            "text/plain": [
              "array([ 9, 77])"
            ]
          },
          "metadata": {
            "tags": []
          },
          "execution_count": 128
        }
      ]
    },
    {
      "cell_type": "code",
      "metadata": {
        "colab": {
          "base_uri": "https://localhost:8080/"
        },
        "id": "FYIKFw3SeCBu",
        "outputId": "80fe4107-9ca4-4faa-e204-3a1e7b35a421"
      },
      "source": [
        "a[1:4,1:3]"
      ],
      "execution_count": null,
      "outputs": [
        {
          "output_type": "execute_result",
          "data": {
            "text/plain": [
              "array([[ 9, 77],\n",
              "       [97, 54],\n",
              "       [59,  4]])"
            ]
          },
          "metadata": {
            "tags": []
          },
          "execution_count": 129
        }
      ]
    },
    {
      "cell_type": "code",
      "metadata": {
        "colab": {
          "base_uri": "https://localhost:8080/"
        },
        "id": "v2QjeTppe6c8",
        "outputId": "ec5f03bb-e76a-46f8-98cc-95d0030a8fc0"
      },
      "source": [
        "a[1:4,1]"
      ],
      "execution_count": null,
      "outputs": [
        {
          "output_type": "execute_result",
          "data": {
            "text/plain": [
              "array([ 9, 97, 59])"
            ]
          },
          "metadata": {
            "tags": []
          },
          "execution_count": 130
        }
      ]
    },
    {
      "cell_type": "code",
      "metadata": {
        "colab": {
          "base_uri": "https://localhost:8080/"
        },
        "id": "qx-_t8pSfUT6",
        "outputId": "a442890f-6d54-480c-a3b2-345a3dfc2e07"
      },
      "source": [
        "a=np.random.randint(1,100,32).reshape(2,4,4)\n",
        "a"
      ],
      "execution_count": null,
      "outputs": [
        {
          "output_type": "execute_result",
          "data": {
            "text/plain": [
              "array([[[86, 99, 98, 23],\n",
              "        [46, 13, 13, 55],\n",
              "        [54, 46, 96, 34],\n",
              "        [37, 73, 28, 39]],\n",
              "\n",
              "       [[65, 69, 85, 73],\n",
              "        [84, 95, 15, 92],\n",
              "        [54, 91, 97, 71],\n",
              "        [56, 14, 31, 50]]])"
            ]
          },
          "metadata": {
            "tags": []
          },
          "execution_count": 131
        }
      ]
    },
    {
      "cell_type": "code",
      "metadata": {
        "colab": {
          "base_uri": "https://localhost:8080/"
        },
        "id": "och4pVBrfm-R",
        "outputId": "7dd7f07d-acad-457a-f537-f61519fac9f4"
      },
      "source": [
        "a[0][2]"
      ],
      "execution_count": null,
      "outputs": [
        {
          "output_type": "execute_result",
          "data": {
            "text/plain": [
              "array([54, 46, 96, 34])"
            ]
          },
          "metadata": {
            "tags": []
          },
          "execution_count": 133
        }
      ]
    },
    {
      "cell_type": "code",
      "metadata": {
        "colab": {
          "base_uri": "https://localhost:8080/"
        },
        "id": "f1iYBl26fyVK",
        "outputId": "9aabe19f-10ef-4873-f042-72a57d23c5d6"
      },
      "source": [
        "a[0][1:3]"
      ],
      "execution_count": null,
      "outputs": [
        {
          "output_type": "execute_result",
          "data": {
            "text/plain": [
              "array([[46, 13, 13, 55],\n",
              "       [54, 46, 96, 34]])"
            ]
          },
          "metadata": {
            "tags": []
          },
          "execution_count": 134
        }
      ]
    },
    {
      "cell_type": "code",
      "metadata": {
        "colab": {
          "base_uri": "https://localhost:8080/"
        },
        "id": "5JTgbzfxf_8p",
        "outputId": "ef311c30-494e-4584-a4c8-49fef508beb4"
      },
      "source": [
        "a[1][:,1:3]"
      ],
      "execution_count": null,
      "outputs": [
        {
          "output_type": "execute_result",
          "data": {
            "text/plain": [
              "array([[69, 85],\n",
              "       [95, 15],\n",
              "       [91, 97],\n",
              "       [14, 31]])"
            ]
          },
          "metadata": {
            "tags": []
          },
          "execution_count": 138
        }
      ]
    },
    {
      "cell_type": "code",
      "metadata": {
        "colab": {
          "base_uri": "https://localhost:8080/"
        },
        "id": "Co402rxPgIpQ",
        "outputId": "2b0dd1f8-038b-443f-b7ed-0040df347a3d"
      },
      "source": [
        "a[0:2,0:2]"
      ],
      "execution_count": null,
      "outputs": [
        {
          "output_type": "execute_result",
          "data": {
            "text/plain": [
              "array([[[86, 99, 98, 23],\n",
              "        [46, 13, 13, 55]],\n",
              "\n",
              "       [[65, 69, 85, 73],\n",
              "        [84, 95, 15, 92]]])"
            ]
          },
          "metadata": {
            "tags": []
          },
          "execution_count": 139
        }
      ]
    },
    {
      "cell_type": "code",
      "metadata": {
        "colab": {
          "base_uri": "https://localhost:8080/"
        },
        "id": "VgNAFf9RgkRp",
        "outputId": "ecd3aa4a-6359-4dea-91f2-fd656a830fca"
      },
      "source": [
        "a[0][1:3,1:3]"
      ],
      "execution_count": null,
      "outputs": [
        {
          "output_type": "execute_result",
          "data": {
            "text/plain": [
              "array([[13, 13],\n",
              "       [46, 96]])"
            ]
          },
          "metadata": {
            "tags": []
          },
          "execution_count": 145
        }
      ]
    },
    {
      "cell_type": "markdown",
      "metadata": {
        "id": "_NlDD9pvhrVy"
      },
      "source": [
        "**subseting**"
      ]
    },
    {
      "cell_type": "code",
      "metadata": {
        "colab": {
          "base_uri": "https://localhost:8080/"
        },
        "id": "93GxPIslgvc_",
        "outputId": "69577e00-f9be-4996-d583-e3a8d2305ec8"
      },
      "source": [
        "a=np.random.randint(10,100,15).reshape(3,5)\n",
        "a"
      ],
      "execution_count": null,
      "outputs": [
        {
          "output_type": "execute_result",
          "data": {
            "text/plain": [
              "array([[31, 47, 28, 93, 91],\n",
              "       [68, 77, 15, 88, 13],\n",
              "       [52, 44, 96, 79, 40]])"
            ]
          },
          "metadata": {
            "tags": []
          },
          "execution_count": 148
        }
      ]
    },
    {
      "cell_type": "code",
      "metadata": {
        "colab": {
          "base_uri": "https://localhost:8080/"
        },
        "id": "DFXDCrdbh1UE",
        "outputId": "957b08da-47be-4c18-d46e-5d6ea86c4e8c"
      },
      "source": [
        "a>50  #if value in a is greater than 50 then return True else false"
      ],
      "execution_count": null,
      "outputs": [
        {
          "output_type": "execute_result",
          "data": {
            "text/plain": [
              "array([[False, False, False,  True,  True],\n",
              "       [ True,  True, False,  True, False],\n",
              "       [ True, False,  True,  True, False]])"
            ]
          },
          "metadata": {
            "tags": []
          },
          "execution_count": 149
        }
      ]
    },
    {
      "cell_type": "markdown",
      "metadata": {
        "id": "v3_JXT0iiOXc"
      },
      "source": [
        "**Universal Function**"
      ]
    },
    {
      "cell_type": "code",
      "metadata": {
        "id": "-u1v5PNriDrc"
      },
      "source": [
        "a=np.random.randint(1,10,9).reshape(3,3)\n",
        "b=np.random.randint(1,10,9).reshape(3,3)"
      ],
      "execution_count": null,
      "outputs": []
    },
    {
      "cell_type": "code",
      "metadata": {
        "colab": {
          "base_uri": "https://localhost:8080/"
        },
        "id": "bfdu1Uhfig56",
        "outputId": "b40c5cde-4369-4f23-e7df-ed0f38e8a561"
      },
      "source": [
        "a"
      ],
      "execution_count": null,
      "outputs": [
        {
          "output_type": "execute_result",
          "data": {
            "text/plain": [
              "array([[6, 2, 2],\n",
              "       [9, 8, 7],\n",
              "       [9, 5, 4]])"
            ]
          },
          "metadata": {
            "tags": []
          },
          "execution_count": 151
        }
      ]
    },
    {
      "cell_type": "code",
      "metadata": {
        "colab": {
          "base_uri": "https://localhost:8080/"
        },
        "id": "FjppGlfLii9K",
        "outputId": "9971e428-387b-4376-f941-410888f8f994"
      },
      "source": [
        "b"
      ],
      "execution_count": null,
      "outputs": [
        {
          "output_type": "execute_result",
          "data": {
            "text/plain": [
              "array([[6, 4, 6],\n",
              "       [8, 9, 4],\n",
              "       [9, 9, 6]])"
            ]
          },
          "metadata": {
            "tags": []
          },
          "execution_count": 152
        }
      ]
    },
    {
      "cell_type": "code",
      "metadata": {
        "colab": {
          "base_uri": "https://localhost:8080/"
        },
        "id": "3bVeFSUFilMT",
        "outputId": "da932c38-8dae-4287-bd3c-98750fc93f34"
      },
      "source": [
        "a*b"
      ],
      "execution_count": null,
      "outputs": [
        {
          "output_type": "execute_result",
          "data": {
            "text/plain": [
              "array([[36,  8, 12],\n",
              "       [72, 72, 28],\n",
              "       [81, 45, 24]])"
            ]
          },
          "metadata": {
            "tags": []
          },
          "execution_count": 153
        }
      ]
    },
    {
      "cell_type": "code",
      "metadata": {
        "colab": {
          "base_uri": "https://localhost:8080/"
        },
        "id": "-3j797GDinia",
        "outputId": "648ab36f-7685-4445-ab18-c4516b942395"
      },
      "source": [
        "a@b"
      ],
      "execution_count": null,
      "outputs": [
        {
          "output_type": "execute_result",
          "data": {
            "text/plain": [
              "array([[ 70,  60,  56],\n",
              "       [181, 171, 128],\n",
              "       [130, 117,  98]])"
            ]
          },
          "metadata": {
            "tags": []
          },
          "execution_count": 155
        }
      ]
    },
    {
      "cell_type": "code",
      "metadata": {
        "colab": {
          "base_uri": "https://localhost:8080/"
        },
        "id": "vxTuC256ipT6",
        "outputId": "f7830133-cb27-40ec-be50-d067ecdae8df"
      },
      "source": [
        "a/b"
      ],
      "execution_count": null,
      "outputs": [
        {
          "output_type": "execute_result",
          "data": {
            "text/plain": [
              "array([[1.        , 0.5       , 0.33333333],\n",
              "       [1.125     , 0.88888889, 1.75      ],\n",
              "       [1.        , 0.55555556, 0.66666667]])"
            ]
          },
          "metadata": {
            "tags": []
          },
          "execution_count": 156
        }
      ]
    },
    {
      "cell_type": "code",
      "metadata": {
        "colab": {
          "base_uri": "https://localhost:8080/"
        },
        "id": "iRMrgViZixkK",
        "outputId": "9256bcf2-3720-4a71-cadd-29511f2e166e"
      },
      "source": [
        "a+100"
      ],
      "execution_count": null,
      "outputs": [
        {
          "output_type": "execute_result",
          "data": {
            "text/plain": [
              "array([[106, 102, 102],\n",
              "       [109, 108, 107],\n",
              "       [109, 105, 104]])"
            ]
          },
          "metadata": {
            "tags": []
          },
          "execution_count": 157
        }
      ]
    },
    {
      "cell_type": "code",
      "metadata": {
        "colab": {
          "base_uri": "https://localhost:8080/"
        },
        "id": "InFftO3ji0Qy",
        "outputId": "3f28c2a3-481e-48e4-fefd-9bcd0602bdc9"
      },
      "source": [
        "a**2"
      ],
      "execution_count": null,
      "outputs": [
        {
          "output_type": "execute_result",
          "data": {
            "text/plain": [
              "array([[36,  4,  4],\n",
              "       [81, 64, 49],\n",
              "       [81, 25, 16]])"
            ]
          },
          "metadata": {
            "tags": []
          },
          "execution_count": 158
        }
      ]
    },
    {
      "cell_type": "code",
      "metadata": {
        "colab": {
          "base_uri": "https://localhost:8080/"
        },
        "id": "r3PpUzm1i2bS",
        "outputId": "bb6645e3-60ea-4e9d-cbb3-c9e84bfd0ced"
      },
      "source": [
        "pow(a,2)"
      ],
      "execution_count": null,
      "outputs": [
        {
          "output_type": "execute_result",
          "data": {
            "text/plain": [
              "array([[36,  4,  4],\n",
              "       [81, 64, 49],\n",
              "       [81, 25, 16]])"
            ]
          },
          "metadata": {
            "tags": []
          },
          "execution_count": 159
        }
      ]
    },
    {
      "cell_type": "markdown",
      "metadata": {
        "id": "JPtON5wWi7MB"
      },
      "source": [
        "**Brodcasting**"
      ]
    },
    {
      "cell_type": "code",
      "metadata": {
        "colab": {
          "base_uri": "https://localhost:8080/"
        },
        "id": "Dxb-F50zi5HJ",
        "outputId": "6bda4c5c-fcf3-42d7-f2f1-421abbf58b5a"
      },
      "source": [
        "a=np.zeros((4,4))\n",
        "a"
      ],
      "execution_count": null,
      "outputs": [
        {
          "output_type": "execute_result",
          "data": {
            "text/plain": [
              "array([[0., 0., 0., 0.],\n",
              "       [0., 0., 0., 0.],\n",
              "       [0., 0., 0., 0.],\n",
              "       [0., 0., 0., 0.]])"
            ]
          },
          "metadata": {
            "tags": []
          },
          "execution_count": 163
        }
      ]
    },
    {
      "cell_type": "code",
      "metadata": {
        "colab": {
          "base_uri": "https://localhost:8080/"
        },
        "id": "Z57gWZLIjFQR",
        "outputId": "9140b797-b474-4531-f804-264cc21c3cd9"
      },
      "source": [
        "a+=100 #this is a element brodcasting because we can add 100 in every or all element\n",
        "a"
      ],
      "execution_count": null,
      "outputs": [
        {
          "output_type": "execute_result",
          "data": {
            "text/plain": [
              "array([[100., 100., 100., 100.],\n",
              "       [100., 100., 100., 100.],\n",
              "       [100., 100., 100., 100.],\n",
              "       [100., 100., 100., 100.]])"
            ]
          },
          "metadata": {
            "tags": []
          },
          "execution_count": 164
        }
      ]
    },
    {
      "cell_type": "code",
      "metadata": {
        "colab": {
          "base_uri": "https://localhost:8080/"
        },
        "id": "o8egkKb1jIDZ",
        "outputId": "bd767c76-7af3-4097-8116-d901a0dd0a71"
      },
      "source": [
        "b=np.array([1,0,2,5])\n",
        "b"
      ],
      "execution_count": null,
      "outputs": [
        {
          "output_type": "execute_result",
          "data": {
            "text/plain": [
              "array([1, 0, 2, 5])"
            ]
          },
          "metadata": {
            "tags": []
          },
          "execution_count": 165
        }
      ]
    },
    {
      "cell_type": "code",
      "metadata": {
        "colab": {
          "base_uri": "https://localhost:8080/"
        },
        "id": "U767mD0hjdlw",
        "outputId": "d3162276-1ace-4260-e8f4-3b01491aec45"
      },
      "source": [
        "y=a+b #this is a row wise brodcasting because we can add row in every row\n",
        "y"
      ],
      "execution_count": null,
      "outputs": [
        {
          "output_type": "execute_result",
          "data": {
            "text/plain": [
              "array([[101., 100., 102., 105.],\n",
              "       [101., 100., 102., 105.],\n",
              "       [101., 100., 102., 105.],\n",
              "       [101., 100., 102., 105.]])"
            ]
          },
          "metadata": {
            "tags": []
          },
          "execution_count": 167
        }
      ]
    },
    {
      "cell_type": "code",
      "metadata": {
        "colab": {
          "base_uri": "https://localhost:8080/"
        },
        "id": "zgUNXWh1jgko",
        "outputId": "d1b054ae-f40e-4768-bea6-8af6c1066e63"
      },
      "source": [
        "c=np.array([0,1,2,3])\n",
        "c"
      ],
      "execution_count": null,
      "outputs": [
        {
          "output_type": "execute_result",
          "data": {
            "text/plain": [
              "array([0, 1, 2, 3])"
            ]
          },
          "metadata": {
            "tags": []
          },
          "execution_count": 168
        }
      ]
    },
    {
      "cell_type": "code",
      "metadata": {
        "colab": {
          "base_uri": "https://localhost:8080/"
        },
        "id": "h-jLQb6jjzUf",
        "outputId": "dfa04063-d59e-4c71-db9b-d9933893b5ce"
      },
      "source": [
        "x=a+c   #this is a column wise brodcasting because we can add row in every column\n",
        "x"
      ],
      "execution_count": null,
      "outputs": [
        {
          "output_type": "execute_result",
          "data": {
            "text/plain": [
              "array([[100., 101., 102., 103.],\n",
              "       [100., 101., 102., 103.],\n",
              "       [100., 101., 102., 103.],\n",
              "       [100., 101., 102., 103.]])"
            ]
          },
          "metadata": {
            "tags": []
          },
          "execution_count": 170
        }
      ]
    },
    {
      "cell_type": "markdown",
      "metadata": {
        "id": "TTCqsKnJkB8v"
      },
      "source": [
        "**Transpose option**"
      ]
    },
    {
      "cell_type": "code",
      "metadata": {
        "colab": {
          "base_uri": "https://localhost:8080/"
        },
        "id": "OuwnjaRXj3Vu",
        "outputId": "73918f90-4270-4567-ef67-e8bdd5db5f92"
      },
      "source": [
        "a=np.array([[1,2,3,4]])\n",
        "a"
      ],
      "execution_count": null,
      "outputs": [
        {
          "output_type": "execute_result",
          "data": {
            "text/plain": [
              "array([[1, 2, 3, 4]])"
            ]
          },
          "metadata": {
            "tags": []
          },
          "execution_count": 174
        }
      ]
    },
    {
      "cell_type": "code",
      "metadata": {
        "colab": {
          "base_uri": "https://localhost:8080/"
        },
        "id": "zzZxxaQMkJfw",
        "outputId": "ced9a669-2379-4b8f-b19d-46989afc9c3d"
      },
      "source": [
        "a.T"
      ],
      "execution_count": null,
      "outputs": [
        {
          "output_type": "execute_result",
          "data": {
            "text/plain": [
              "array([[1],\n",
              "       [2],\n",
              "       [3],\n",
              "       [4]])"
            ]
          },
          "metadata": {
            "tags": []
          },
          "execution_count": 175
        }
      ]
    },
    {
      "cell_type": "markdown",
      "metadata": {
        "id": "o9zo99OukVKf"
      },
      "source": [
        "**array math**"
      ]
    },
    {
      "cell_type": "code",
      "metadata": {
        "colab": {
          "base_uri": "https://localhost:8080/"
        },
        "id": "4qWrxc1VkKkm",
        "outputId": "bf6b97ed-4234-4c94-c73f-05a7d1874ba9"
      },
      "source": [
        "np.sqrt(a)"
      ],
      "execution_count": null,
      "outputs": [
        {
          "output_type": "execute_result",
          "data": {
            "text/plain": [
              "array([[1.        , 1.41421356, 1.73205081, 2.        ]])"
            ]
          },
          "metadata": {
            "tags": []
          },
          "execution_count": 177
        }
      ]
    },
    {
      "cell_type": "code",
      "metadata": {
        "colab": {
          "base_uri": "https://localhost:8080/"
        },
        "id": "P6VcYFPBkged",
        "outputId": "bfd12b12-e952-43d3-cf39-9b431ff8d300"
      },
      "source": [
        "np.exp(a)"
      ],
      "execution_count": null,
      "outputs": [
        {
          "output_type": "execute_result",
          "data": {
            "text/plain": [
              "array([[ 2.71828183,  7.3890561 , 20.08553692, 54.59815003]])"
            ]
          },
          "metadata": {
            "tags": []
          },
          "execution_count": 178
        }
      ]
    },
    {
      "cell_type": "code",
      "metadata": {
        "colab": {
          "base_uri": "https://localhost:8080/"
        },
        "id": "weTgUf8LkmUl",
        "outputId": "57a282c8-4ee0-465c-8f9e-af5d1c0eb834"
      },
      "source": [
        "np.log10(a)"
      ],
      "execution_count": null,
      "outputs": [
        {
          "output_type": "execute_result",
          "data": {
            "text/plain": [
              "array([[0.        , 0.30103   , 0.47712125, 0.60205999]])"
            ]
          },
          "metadata": {
            "tags": []
          },
          "execution_count": 179
        }
      ]
    },
    {
      "cell_type": "code",
      "metadata": {
        "colab": {
          "base_uri": "https://localhost:8080/"
        },
        "id": "VoBuzwMrkoX1",
        "outputId": "281ff9ff-69f6-4af4-82b1-d44850dd4a7a"
      },
      "source": [
        "np.fmod(a,b)"
      ],
      "execution_count": null,
      "outputs": [
        {
          "output_type": "stream",
          "text": [
            "/usr/local/lib/python3.7/dist-packages/ipykernel_launcher.py:1: RuntimeWarning: divide by zero encountered in fmod\n",
            "  \"\"\"Entry point for launching an IPython kernel.\n"
          ],
          "name": "stderr"
        },
        {
          "output_type": "execute_result",
          "data": {
            "text/plain": [
              "array([[0, 0, 1, 4]])"
            ]
          },
          "metadata": {
            "tags": []
          },
          "execution_count": 180
        }
      ]
    },
    {
      "cell_type": "code",
      "metadata": {
        "id": "DPgXBqZ8krxl"
      },
      "source": [
        ""
      ],
      "execution_count": null,
      "outputs": []
    }
  ]
}